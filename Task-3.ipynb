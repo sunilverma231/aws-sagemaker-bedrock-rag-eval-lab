{
 "cells": [
  {
   "cell_type": "markdown",
   "id": "ccd8ae92a248be2d",
   "metadata": {
    "tags": []
   },
   "source": [
    "# Task 3: Test the Query Reformulation process supported by Amazon Bedrock Knowledge Bases\n",
    "\n",
    "In this task you understand and test the Query Reformulation process supported by Amazon Bedrock Knowledge Bases. With query reformulation, you take a complex input prompt and break it down into multiple sub-queries. These sub-queries separately go through their own retrieval steps for relevant chunks. The resulting chunks are then pooled and ranked together before passing them to the Foundational Model to generate a response. Query reformulation is another tool that helps in increasing the accuracy for complex queries that your application may face in production."
   ]
  },
  {
   "cell_type": "markdown",
   "id": "c2e87cd081d14b9c",
   "metadata": {
    "tags": []
   },
   "source": [
    "## Task 3.1: Setup the environment\n",
    "\n",
    "In this task, you setup the notebook environment by import the necessary packages.\n",
    "\n",
    "1. Run the following two code cells to import the necessary packages and setup your environment:"
   ]
  },
  {
   "cell_type": "code",
   "execution_count": null,
   "id": "d8f6d98a43720ff5",
   "metadata": {
    "ExecuteTime": {
     "end_time": "2024-07-01T21:24:31.744740Z",
     "start_time": "2024-07-01T21:24:29.547869Z"
    },
    "tags": []
   },
   "outputs": [],
   "source": [
    "import boto3\n",
    "import botocore\n",
    "import os\n",
    "import json\n",
    "import logging\n",
    "import os\n",
    "\n",
    "# confirm we are at boto3 version 1.34.143 or above\n",
    "print(boto3.__version__)"
   ]
  },
  {
   "cell_type": "code",
   "execution_count": null,
   "id": "6739ded2",
   "metadata": {},
   "outputs": [],
   "source": [
    "#Clients\n",
    "s3_client = boto3.client('s3')\n",
    "sts_client = boto3.client('sts')\n",
    "session = boto3.session.Session()\n",
    "region =  session.region_name\n",
    "account_id = sts_client.get_caller_identity()[\"Account\"]\n",
    "bedrock_agent_client = boto3.client('bedrock-agent')\n",
    "bedrock_agent_runtime_client = boto3.client('bedrock-agent-runtime') \n",
    "logging.basicConfig(format='[%(asctime)s] p%(process)s {%(filename)s:%(lineno)d} %(levelname)s - %(message)s', level=logging.INFO)\n",
    "logger = logging.getLogger(__name__)\n",
    "region, account_id"
   ]
  },
  {
   "cell_type": "markdown",
   "id": "55de6606",
   "metadata": {},
   "source": [
    "2. Run the following code cell to verify the ID for the existing Knowledge Base in Amazon Bedrock:"
   ]
  },
  {
   "cell_type": "code",
   "execution_count": 3,
   "id": "042e2fd9",
   "metadata": {},
   "outputs": [],
   "source": [
    "import botocore\n",
    "\n",
    "session = boto3.Session()\n",
    "bedrock_client = session.client('bedrock-agent')\n",
    "\n",
    "try:\n",
    "    response = bedrock_client.list_knowledge_bases(\n",
    "        maxResults=1  # We only need to retrieve the first Knowledge Base\n",
    "    )\n",
    "    knowledge_base_summaries = response.get('knowledgeBaseSummaries', [])\n",
    "\n",
    "    if knowledge_base_summaries:\n",
    "        kb_id = knowledge_base_summaries[0]['knowledgeBaseId']\n",
    "        print(f\"Knowledge Base ID: {kb_id}\")\n",
    "    else:\n",
    "        print(\"No Knowledge Base summaries found.\")\n",
    "        \n",
    "except botocore.exceptions.ClientError as e:\n",
    "    print(f\"Error: {e}\")"
   ]
  },
  {
   "cell_type": "markdown",
   "id": "9ede5d03",
   "metadata": {},
   "source": [
    "3. Run the following code cell to define the FM to be used for this notebook:"
   ]
  },
  {
   "cell_type": "code",
   "execution_count": null,
   "id": "2e323c26",
   "metadata": {},
   "outputs": [],
   "source": [
    "# Define FM to be used for generations \n",
    "foundation_model ='anthropic.claude-3-sonnet-20240229-v1:0'  # we will be using Anthropic Claude 3 Sonnet throughout the notebook"
   ]
  },
  {
   "cell_type": "markdown",
   "id": "fb05c48b103ab62",
   "metadata": {},
   "source": [
    "## Task 3.2: Demonstrate Query Reformulation\n",
    "\n",
    "In this task, you investigate a simple and a more complex query that could benefit from query reformulation and see how it affects the generated responses.\n",
    "\n",
    "#### Complex prompt\n",
    "\n",
    "To demonstrate the functionality, lets take a look at a query that has a few asks being made about some information contained in the AnyCompany 10K financial document. This query contains a few asks that are not semantically related. When this query is embedded during the retrieval step, some aspects of the query may become diluted and therefore the relevant chunks returned may not address all components of this complex query.\n",
    "\n",
    "To query your Knowledge Base and generate a response, you use the *RetrieveAndGenerate* API call. To use the query reformulation feature, the following information is included in your knowledge base:\n",
    "\n",
    "```\n",
    "'orchestrationConfiguration': {\n",
    "        'queryTransformationConfiguration': {\n",
    "            'type': 'QUERY_DECOMPOSITION'\n",
    "        }\n",
    "    }\n",
    "```\n",
    "\n",
    "<i aria-hidden=\"true\" class=\"fas fa-sticky-note\" style=\"color:#563377\"></i> **Note:** The output response structure is same as the normal *retrieve_and_generate* without query reformulation."
   ]
  },
  {
   "cell_type": "markdown",
   "id": "9360c879265e8612",
   "metadata": {},
   "source": [
    "### Task 3.2.1: Generate results without Query Reformulation\n",
    "\n",
    "In this task, you see how the generated result looks like for the following query without using query reformulation. You use the following query: *Where is the AnyCompany company waterfront building located and how does the whistleblower scandal hurt the company and its image?*"
   ]
  },
  {
   "cell_type": "markdown",
   "id": "0888fcb6",
   "metadata": {},
   "source": [
    "4. Run the following three code cells to generated results without query reformulation:"
   ]
  },
  {
   "cell_type": "code",
   "execution_count": 4,
   "id": "40680d2c",
   "metadata": {},
   "outputs": [],
   "source": [
    "query = \"What is AnyCompany tower and how does the whistleblower scandal hurt the company and its image?\""
   ]
  },
  {
   "cell_type": "code",
   "execution_count": null,
   "id": "6e17f767c1612d15",
   "metadata": {
    "ExecuteTime": {
     "end_time": "2024-07-02T00:15:47.357874Z",
     "start_time": "2024-07-02T00:15:41.533749Z"
    },
    "tags": []
   },
   "outputs": [],
   "source": [
    "response_ret = bedrock_agent_runtime_client.retrieve_and_generate(\n",
    "    input={\n",
    "        \"text\": query\n",
    "    },\n",
    "    retrieveAndGenerateConfiguration={\n",
    "        \"type\": \"KNOWLEDGE_BASE\",\n",
    "        \"knowledgeBaseConfiguration\": {\n",
    "            'knowledgeBaseId': kb_id,\n",
    "            \"modelArn\": \"arn:aws:bedrock:{}::foundation-model/{}\".format(region, foundation_model),\n",
    "            \"retrievalConfiguration\": {\n",
    "                \"vectorSearchConfiguration\": {\n",
    "                    \"numberOfResults\":5\n",
    "                } \n",
    "            }\n",
    "        }\n",
    "    }\n",
    ")\n",
    "\n",
    "\n",
    "# generated text output\n",
    "\n",
    "print(response_ret['output']['text'],end='\\n'*2)"
   ]
  },
  {
   "cell_type": "code",
   "execution_count": null,
   "id": "f619f389",
   "metadata": {},
   "outputs": [],
   "source": [
    "response_without_qr = response_ret['citations'][0]['retrievedReferences']\n",
    "print(\"# of citations or chunks used to generate the response: \", len(response_without_qr))\n",
    "def citations_rag_print(response_ret):\n",
    "#structure 'retrievalResults': list of contents. Each list has content, location, score, metadata\n",
    "    for num,chunk in enumerate(response_ret,1):\n",
    "        print(f'Chunk {num}: ',chunk['content']['text'],end='\\n'*2)\n",
    "        print(f'Chunk {num} Location: ',chunk['location'],end='\\n'*2)\n",
    "        print(f'Chunk {num} Metadata: ',chunk['metadata'],end='\\n'*2)\n",
    "\n",
    "citations_rag_print(response_without_qr) "
   ]
  },
  {
   "cell_type": "markdown",
   "id": "7cf1f43f-2157-4e25-b7d8-e9d84030efcf",
   "metadata": {},
   "source": [
    "As seen from the above citations, your retrieval with the complex query did not return any chunks relevant to the building, instead focusing on embeddings that was most similar to the whistleblower incident.\n",
    "\n",
    "This may indicate the embedding of the query resulted in some dilution of the semantics of that part of the query."
   ]
  },
  {
   "cell_type": "markdown",
   "id": "661308d67c7b9edf",
   "metadata": {},
   "source": [
    "### Task 3.2.2: Generate results with Query Reformulation\n",
    "\n",
    "In this task, you see how query reformulation can benefit the more aligned context retrieval, which in turn, will enhance the accuracy of response generation."
   ]
  },
  {
   "cell_type": "markdown",
   "id": "ded5dd5a",
   "metadata": {},
   "source": [
    "5. Run the following two code cells to generated results with query reformulation:"
   ]
  },
  {
   "cell_type": "code",
   "execution_count": null,
   "id": "f1e8587c",
   "metadata": {},
   "outputs": [],
   "source": [
    "response_ret = bedrock_agent_runtime_client.retrieve_and_generate(\n",
    "    input={\n",
    "        \"text\": query\n",
    "    },\n",
    "    retrieveAndGenerateConfiguration={\n",
    "        \"type\": \"KNOWLEDGE_BASE\",\n",
    "        \"knowledgeBaseConfiguration\": {\n",
    "            'knowledgeBaseId': kb_id,\n",
    "            \"modelArn\": \"arn:aws:bedrock:{}::foundation-model/{}\".format(region, foundation_model),\n",
    "            \"retrievalConfiguration\": {\n",
    "                \"vectorSearchConfiguration\": {\n",
    "                    \"numberOfResults\":5\n",
    "                } \n",
    "            },\n",
    "            'orchestrationConfiguration': {\n",
    "                'queryTransformationConfiguration': {\n",
    "                    'type': 'QUERY_DECOMPOSITION'\n",
    "                }\n",
    "            }\n",
    "        }\n",
    "    }\n",
    ")\n",
    "\n",
    "\n",
    "# generated text output\n",
    "\n",
    "print(response_ret['output']['text'],end='\\n'*2)"
   ]
  },
  {
   "cell_type": "markdown",
   "id": "ce888f21-54d0-4e0f-8c54-4d0fc0a27b3b",
   "metadata": {},
   "source": [
    "Let's take a look at the retrieved chunks with query reformulation:"
   ]
  },
  {
   "cell_type": "code",
   "execution_count": null,
   "id": "4fd6aa0c",
   "metadata": {},
   "outputs": [],
   "source": [
    "response_with_qr = response_ret['citations'][0]['retrievedReferences']\n",
    "print(\"# of citations or chunks used to generate the response: \", len(response_with_qr))\n",
    "\n",
    "\n",
    "citations_rag_print(response_with_qr)"
   ]
  },
  {
   "cell_type": "markdown",
   "id": "96e4dcba-d975-4506-a7d9-6e52f6f51019",
   "metadata": {},
   "source": [
    "As you can see, with query reformulation turned on, the chunks that have been retrieved now provide context for the whistlblower scandal and the location of the waterfront property components."
   ]
  },
  {
   "cell_type": "markdown",
   "id": "bbbb1e2d-837e-4f04-8696-6b7f31a337fd",
   "metadata": {},
   "source": [
    "<i aria-hidden=\"true\" class=\"far fa-thumbs-up\" style=\"color:#008296\"></i> **Task complete:** You have completed this notebook. To move to the next part of the lab, do the following:\n",
    "\n",
    "- Close this notebook file.\n",
    "- Return to the lab session and continue with Task 4."
   ]
  }
 ],
 "metadata": {
  "kernelspec": {
   "display_name": "Python 3 (ipykernel)",
   "language": "python",
   "name": "python3"
  },
  "language_info": {
   "codemirror_mode": {
    "name": "ipython",
    "version": 3
   },
   "file_extension": ".py",
   "mimetype": "text/x-python",
   "name": "python",
   "nbconvert_exporter": "python",
   "pygments_lexer": "ipython3",
   "version": "3.10.14"
  }
 },
 "nbformat": 4,
 "nbformat_minor": 5
}
