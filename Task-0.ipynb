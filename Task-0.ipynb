{
 "cells": [
  {
   "cell_type": "markdown",
   "id": "21835ee9-ffe6-4b67-a0b6-9fd6d91c8eda",
   "metadata": {},
   "source": [
    "# Amazon Bedrock Knowledge Bases Tasks Setup\n",
    "---\n",
    "\n",
    "## Prerequisites\n",
    "\n",
    "Run the cells in this section to install the packages needed by the notebooks. ⚠️ You will see pip dependency errors, you can safely ignore these errors. ⚠️\n",
    "\n",
    "IGNORE ERROR: pip's dependency resolver does not currently take into account all the packages that are installed. This behaviour is the source of the following dependency conflicts."
   ]
  },
  {
   "cell_type": "code",
   "execution_count": null,
   "id": "6f6b8750-4078-4843-a45d-aea4babbe396",
   "metadata": {},
   "outputs": [],
   "source": [
    "%pip uninstall -y boto3 opensearch-py botocore awscli langchain langchain-core langchain-community langchain-text-splitters langchain-aws retrying ragas ipywidgets iprogress openpyxl pydantic\n",
    "%pip install boto3\n",
    "%pip install opensearch-py\n",
    "%pip install botocore\n",
    "%pip install awscli\n",
    "%pip install \"langchain>=0.3,<0.4\"\n",
    "%pip install \"langchain-core>=0.3,<0.4\"\n",
    "%pip install \"langchain-community>=0.3,<0.4\"\n",
    "%pip install \"langchain-text-splitters>=0.3,<0.4\"\n",
    "%pip install \"langchain-aws>=0.2,<0.3\"\n",
    "%pip install retrying\n",
    "%pip install ragas==0.1.16\n",
    "%pip install ipywidgets\n",
    "%pip install iprogress\n",
    "%pip install openpyxl\n",
    "%pip install \"pydantic>=2,<3\""
   ]
  },
  {
   "cell_type": "markdown",
   "id": "fc34e1ba-16ee-491c-81ee-687000111c55",
   "metadata": {},
   "source": [
    "### Restart the kernel after running the above cell"
   ]
  }
 ],
 "metadata": {
  "kernelspec": {
   "display_name": "Python 3 (ipykernel)",
   "language": "python",
   "name": "python3"
  },
  "language_info": {
   "codemirror_mode": {
    "name": "ipython",
    "version": 3
   },
   "file_extension": ".py",
   "mimetype": "text/x-python",
   "name": "python",
   "nbconvert_exporter": "python",
   "pygments_lexer": "ipython3",
   "version": "3.11.9"
  }
 },
 "nbformat": 4,
 "nbformat_minor": 5
}
